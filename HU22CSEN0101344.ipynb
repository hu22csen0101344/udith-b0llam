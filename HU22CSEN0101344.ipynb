{
  "nbformat": 4,
  "nbformat_minor": 0,
  "metadata": {
    "colab": {
      "provenance": [],
      "authorship_tag": "ABX9TyNEzyyvzihqYarrV5fcdKN3",
      "include_colab_link": true
    },
    "kernelspec": {
      "name": "python3",
      "display_name": "Python 3"
    },
    "language_info": {
      "name": "python"
    }
  },
  "cells": [
    {
      "cell_type": "markdown",
      "metadata": {
        "id": "view-in-github",
        "colab_type": "text"
      },
      "source": [
        "<a href=\"https://colab.research.google.com/github/hu22csen0101344/udith-b0llam/blob/main/HU22CSEN0101344.ipynb\" target=\"_parent\"><img src=\"https://colab.research.google.com/assets/colab-badge.svg\" alt=\"Open In Colab\"/></a>"
      ]
    },
    {
      "cell_type": "markdown",
      "source": [
        "Hardcoding Variables Keyboard Inputs"
      ],
      "metadata": {
        "id": "NOzNdNO4mBYj"
      }
    },
    {
      "cell_type": "code",
      "execution_count": 1,
      "metadata": {
        "colab": {
          "base_uri": "https://localhost:8080/"
        },
        "id": "lYHzX9yNlhSz",
        "outputId": "e903ad41-19e4-48b7-8a8e-3db342b1a5f2"
      },
      "outputs": [
        {
          "output_type": "stream",
          "name": "stdout",
          "text": [
            "The weather value at 6 hours is: 36.0\n"
          ]
        }
      ],
      "source": [
        "# Define the quadratic equation coefficients for the weather model\n",
        "a = 0.5    # Coefficient for t^2\n",
        "b = -2     # Coefficient for t\n",
        "c = 30     # Constant term\n",
        "\n",
        "# Input: Time of day (hardcoded value)\n",
        "time_of_day = 6\n",
        "\n",
        "# Calculate weather value using the quadratic formula\n",
        "weather_value = a * time_of_day**2 + b * time_of_day + c\n",
        "\n",
        "# Output the weather value\n",
        "print(f\"The weather value at {time_of_day} hours is: {weather_value}\")"
      ]
    },
    {
      "cell_type": "markdown",
      "source": [
        "Read from a File"
      ],
      "metadata": {
        "id": "U3rSh-OInGs5"
      }
    },
    {
      "cell_type": "code",
      "source": [
        "# Define the quadratic equation coefficients for the weather model\n",
        "a = 0.5    # Coefficient for t^2\n",
        "b = -2     # Coefficient for t\n",
        "c = 30     # Constant term\n",
        "\n",
        "# Input: Time of day (via keyboard)\n",
        "time_of_day = float(input(\"Enter the time of day (in hours): \"))\n",
        "\n",
        "# Calculate weather value using the quadratic formula\n",
        "weather_value = a * time_of_day**2 + b * time_of_day + c\n",
        "\n",
        "# Output the weather value\n",
        "print(f\"The weather value at {time_of_day} hours is: {weather_value}\")"
      ],
      "metadata": {
        "colab": {
          "base_uri": "https://localhost:8080/"
        },
        "id": "Wv0thEexnIdR",
        "outputId": "9bb2ed45-307d-4c3e-f62b-8755ee3cd67d"
      },
      "execution_count": 2,
      "outputs": [
        {
          "output_type": "stream",
          "name": "stdout",
          "text": [
            "Enter the time of day (in hours): 5\n",
            "The weather value at 5.0 hours is: 32.5\n"
          ]
        }
      ]
    },
    {
      "cell_type": "markdown",
      "source": [
        "Single Set of Input"
      ],
      "metadata": {
        "id": "CDoVpbZ4nwJw"
      }
    },
    {
      "cell_type": "code",
      "source": [
        "# Coefficients of the quadratic equation\n",
        "a = 0.5    # Coefficient for t^2\n",
        "b = -2     # Coefficient for t\n",
        "c = 30     # Constant term\n",
        "\n",
        "# Write a time of day to a file\n",
        "with open(\"time_of_day.txt\", \"w\") as file:\n",
        "    file.write(\"12.0\")  # Example time of day\n",
        "\n",
        "# Read the time of day from the file\n",
        "with open(\"time_of_day.txt\", \"r\") as file:\n",
        "    time_of_day = float(file.readline().strip())\n",
        "\n",
        "# Calculate the weather value\n",
        "weather_value = a * time_of_day**2 + b * time_of_day + c\n",
        "\n",
        "# Output the weather value\n",
        "print(f\"The weather value at {time_of_day} hours is: {weather_value}\")"
      ],
      "metadata": {
        "colab": {
          "base_uri": "https://localhost:8080/"
        },
        "id": "YKolW6tCny6g",
        "outputId": "cc45f2ea-4d54-42ee-8263-7ae4facbc6b0"
      },
      "execution_count": 9,
      "outputs": [
        {
          "output_type": "stream",
          "name": "stdout",
          "text": [
            "The weather value at 12.0 hours is: 78.0\n"
          ]
        }
      ]
    },
    {
      "cell_type": "markdown",
      "source": [
        "Multiple Set of Inputs"
      ],
      "metadata": {
        "id": "UBK2gLdnouT3"
      }
    },
    {
      "cell_type": "code",
      "source": [
        "# Coefficients of the quadratic equation\n",
        "a = 0.5    # Coefficient for t^2\n",
        "b = -2     # Coefficient for t\n",
        "c = 30     # Constant term\n",
        "\n",
        "# Write multiple times of day to a file\n",
        "with open(\"time_of_day.txt\", \"w\") as file:\n",
        "    file.write(\"6.0\\n\")\n",
        "    file.write(\"12.0\\n\")\n",
        "    file.write(\"18.0\\n\")\n",
        "    file.write(\"24.0\\n\")\n",
        "\n",
        "# Read times of day from the file\n",
        "with open(\"time_of_day.txt\", \"r\") as file:\n",
        "    times_of_day = [float(line.strip()) for line in file.readlines()]\n",
        "\n",
        "# Calculate and print weather value for each time of day\n",
        "for time_of_day in times_of_day:\n",
        "    weather_value = a * time_of_day**2 + b * time_of_day + c\n",
        "    print(f\"The weather value at {time_of_day} hours is: {weather_value}\")\n"
      ],
      "metadata": {
        "colab": {
          "base_uri": "https://localhost:8080/"
        },
        "id": "1ibw8Cz-o06X",
        "outputId": "ca87d3c2-657e-4ebd-c25a-526cf34aa9c9"
      },
      "execution_count": 10,
      "outputs": [
        {
          "output_type": "stream",
          "name": "stdout",
          "text": [
            "The weather value at 6.0 hours is: 36.0\n",
            "The weather value at 12.0 hours is: 78.0\n",
            "The weather value at 18.0 hours is: 156.0\n",
            "The weather value at 24.0 hours is: 270.0\n"
          ]
        }
      ]
    }
  ]
}